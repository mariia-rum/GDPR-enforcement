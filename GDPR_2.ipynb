{
 "cells": [
  {
   "cell_type": "markdown",
   "metadata": {},
   "source": [
    "Research idea:  The issue of data analysis is to examine enforcement practices of GDPR inside the EU. \n",
    "First, for data analysis, two datasets were created in Excel (“Book1.xlsx” and “Book2.xlsx”) with information collected from GDPR Enforcement Tracker traced by CMS Legal Services EEIG. \n",
    "\n",
    "Methodology: In this Jupiter Notebook the first dataset (“Book2.xlsx”) is used. Dataset represents enforcement procedures in 27 Member States of the EU, excluding the information from the UK. It consists of 3 columns: \"Country\", \"Fine2\" and Population\".\n",
    "For analysis of data NumPy and Panda Python libraries are used. For visualization Seaborn Python library is used. \n",
    "\n",
    "Problem: During the examination of the dataset, the main question was calculation GDPR fines per capita in the EU in the timeframe from May 2018 to June 2020 and after visualization of the results of the computation. \n",
    "\n",
    "Data analysis consisted of numerous steps :\n",
    " \n",
    "1)Examination and analysis of the data set.\n",
    "\n",
    "2)Calculation.\n",
    "\n",
    "3)Data visualization.\n",
    "\n",
    "4)Communicating results (this part was not placed in the Jupiter Notebook, but was introduced in Thesis). "
   ]
  },
  {
   "cell_type": "markdown",
   "metadata": {},
   "source": [
    "# 1. Data analysis "
   ]
  },
  {
   "cell_type": "markdown",
   "metadata": {},
   "source": [
    "1.1. The first step is to import all the libraries that will be used for the data analysis."
   ]
  },
  {
   "cell_type": "code",
   "execution_count": 50,
   "metadata": {},
   "outputs": [],
   "source": [
    "import pandas as pd\n",
    "import numpy as np\n",
    "import matplotlib.pyplot as plt\n",
    "import seaborn as sns"
   ]
  },
  {
   "cell_type": "markdown",
   "metadata": {},
   "source": [
    "1.2. The second step is to upload the Data Set."
   ]
  },
  {
   "cell_type": "code",
   "execution_count": 51,
   "metadata": {},
   "outputs": [],
   "source": [
    "GDPR = pd.read_excel(\"Book2.xlsx\")"
   ]
  },
  {
   "cell_type": "markdown",
   "metadata": {},
   "source": [
    "1.3. A further step is to display basic statistical details like count, mean, std, first, second and third percentile, min and max boundaries of a data frame of numeric values."
   ]
  },
  {
   "cell_type": "code",
   "execution_count": 52,
   "metadata": {},
   "outputs": [
    {
     "data": {
      "text/html": [
       "<div>\n",
       "<style scoped>\n",
       "    .dataframe tbody tr th:only-of-type {\n",
       "        vertical-align: middle;\n",
       "    }\n",
       "\n",
       "    .dataframe tbody tr th {\n",
       "        vertical-align: top;\n",
       "    }\n",
       "\n",
       "    .dataframe thead th {\n",
       "        text-align: right;\n",
       "    }\n",
       "</style>\n",
       "<table border=\"1\" class=\"dataframe\">\n",
       "  <thead>\n",
       "    <tr style=\"text-align: right;\">\n",
       "      <th></th>\n",
       "      <th>Fine2</th>\n",
       "      <th>Population</th>\n",
       "    </tr>\n",
       "  </thead>\n",
       "  <tbody>\n",
       "    <tr>\n",
       "      <td>count</td>\n",
       "      <td>27.000000</td>\n",
       "      <td>2.700000e+01</td>\n",
       "    </tr>\n",
       "    <tr>\n",
       "      <td>mean</td>\n",
       "      <td>11.333333</td>\n",
       "      <td>1.660403e+07</td>\n",
       "    </tr>\n",
       "    <tr>\n",
       "      <td>std</td>\n",
       "      <td>17.045189</td>\n",
       "      <td>2.213582e+07</td>\n",
       "    </tr>\n",
       "    <tr>\n",
       "      <td>min</td>\n",
       "      <td>1.000000</td>\n",
       "      <td>3.412430e+05</td>\n",
       "    </tr>\n",
       "    <tr>\n",
       "      <td>25%</td>\n",
       "      <td>2.000000</td>\n",
       "      <td>4.521526e+06</td>\n",
       "    </tr>\n",
       "    <tr>\n",
       "      <td>50%</td>\n",
       "      <td>7.000000</td>\n",
       "      <td>9.006398e+06</td>\n",
       "    </tr>\n",
       "    <tr>\n",
       "      <td>75%</td>\n",
       "      <td>10.000000</td>\n",
       "      <td>1.436225e+07</td>\n",
       "    </tr>\n",
       "    <tr>\n",
       "      <td>max</td>\n",
       "      <td>85.000000</td>\n",
       "      <td>8.378394e+07</td>\n",
       "    </tr>\n",
       "  </tbody>\n",
       "</table>\n",
       "</div>"
      ],
      "text/plain": [
       "           Fine2    Population\n",
       "count  27.000000  2.700000e+01\n",
       "mean   11.333333  1.660403e+07\n",
       "std    17.045189  2.213582e+07\n",
       "min     1.000000  3.412430e+05\n",
       "25%     2.000000  4.521526e+06\n",
       "50%     7.000000  9.006398e+06\n",
       "75%    10.000000  1.436225e+07\n",
       "max    85.000000  8.378394e+07"
      ]
     },
     "execution_count": 52,
     "metadata": {},
     "output_type": "execute_result"
    }
   ],
   "source": [
    "GDPR.describe()"
   ]
  },
  {
   "cell_type": "markdown",
   "metadata": {},
   "source": [
    "1.4. To check a concise summary of the data frame  .info() function is used, which provides a general picture of the dataset that is used for research. "
   ]
  },
  {
   "cell_type": "code",
   "execution_count": 54,
   "metadata": {},
   "outputs": [
    {
     "name": "stdout",
     "output_type": "stream",
     "text": [
      "<class 'pandas.core.frame.DataFrame'>\n",
      "RangeIndex: 27 entries, 0 to 26\n",
      "Data columns (total 3 columns):\n",
      "Country       27 non-null object\n",
      "Fine2         27 non-null int64\n",
      "Population    27 non-null int64\n",
      "dtypes: int64(2), object(1)\n",
      "memory usage: 776.0+ bytes\n"
     ]
    }
   ],
   "source": [
    "GDPR.info()"
   ]
  },
  {
   "cell_type": "markdown",
   "metadata": {},
   "source": [
    "# 2.Calculation"
   ]
  },
  {
   "cell_type": "markdown",
   "metadata": {},
   "source": [
    "2.1. To analyze further differences in GDPR enforcement, GDPR fines per capita in the EU in the timeframe from May 2018 to June 2020 were calculated.\n",
    "The formula for per capita is:\n",
    "Measurement / Population = Measurement per capita\n",
    "It is important to multiply by 1 000 000 so the numbers per capita would not be small and complicated to compare.[1]"
   ]
  },
  {
   "cell_type": "code",
   "execution_count": 55,
   "metadata": {},
   "outputs": [],
   "source": [
    "GDPR[['Fine2', 'Population']] = GDPR[['Fine2', 'Population']].apply(pd.to_numeric)\n",
    "GDPR['Population'] = GDPR['Population']\n",
    "GDPR['Percap'] = GDPR['Fine2'] * 1e6 / GDPR['Population']"
   ]
  },
  {
   "cell_type": "markdown",
   "metadata": {},
   "source": [
    "2.2. With the help of the print () function, it is easy to take a look at the result of the calculation. "
   ]
  },
  {
   "cell_type": "code",
   "execution_count": 56,
   "metadata": {},
   "outputs": [
    {
     "name": "stdout",
     "output_type": "stream",
     "text": [
      "0     1.817996\n",
      "1     1.767364\n",
      "2     2.898445\n",
      "3     0.298387\n",
      "4     2.878342\n",
      "5     1.035409\n",
      "6     0.933796\n",
      "7     0.165394\n",
      "8     1.475677\n",
      "9     6.622374\n",
      "10    0.767529\n",
      "11    1.282135\n",
      "12    0.184957\n",
      "13    0.777225\n",
      "14    1.035875\n",
      "15    0.594103\n",
      "16    0.076601\n",
      "17    0.721928\n",
      "18    0.392283\n",
      "19    5.860926\n",
      "20    0.116721\n",
      "21    1.060334\n",
      "22    0.405040\n",
      "23    0.243590\n",
      "24    0.753844\n",
      "25    0.367338\n",
      "26    2.264785\n",
      "Name: Percap, dtype: float64\n"
     ]
    }
   ],
   "source": [
    "print (GDPR['Percap'])"
   ]
  },
  {
   "cell_type": "markdown",
   "metadata": {},
   "source": [
    "# 3. Data visualization "
   ]
  },
  {
   "cell_type": "markdown",
   "metadata": {},
   "source": [
    "3.1. To visualize the GDPR fines per capita in the EU countries the Seaborn library is used. The calculation of per capita is plotted against column 'Country', to see the distribution of variables in ascending order. "
   ]
  },
  {
   "cell_type": "code",
   "execution_count": 57,
   "metadata": {},
   "outputs": [
    {
     "data": {
      "image/png": "[encoded data removed]",
      "text/plain": [
       "<Figure size 432x288 with 1 Axes>"
      ]
     },
     "metadata": {
      "needs_background": "light"
     },
     "output_type": "display_data"
    }
   ],
   "source": [
    "sns.barplot(x='Country', y=\"Percap\", data=GDPR, \n",
    "            order=GDPR.sort_values('Percap',ascending = False).Country)\n",
    "plt.xlabel(\"Country\", size=10)\n",
    "plt.xticks(\n",
    "    rotation=45, \n",
    "    horizontalalignment='right',\n",
    "    fontweight='light',\n",
    "    fontsize='small')\n",
    "plt.ylabel(\"Fines per capita\", size=10)\n",
    "plt.title('The GDPR fines per capita in the EU countries (May 2018-June 2020)', size=12)\n",
    "plt.tight_layout()"
   ]
  },
  {
   "cell_type": "markdown",
   "metadata": {},
   "source": [
    "# Bibliography "
   ]
  },
  {
   "cell_type": "markdown",
   "metadata": {},
   "source": [
    "1. Kimberly Amadeo, Per Capita, What It Means, Calculation, How to Use It, The Balance, June 11, 2020. Available at:https://www.thebalance.com/per-capita-what-it-means-calculation-how-to-use-it-3305876"
   ]
  }
 ],
 "metadata": {
  "kernelspec": {
   "display_name": "Python 3",
   "language": "python",
   "name": "python3"
  },
  "language_info": {
   "codemirror_mode": {
    "name": "ipython",
    "version": 3
   },
   "file_extension": ".py",
   "mimetype": "text/x-python",
   "name": "python",
   "nbconvert_exporter": "python",
   "pygments_lexer": "ipython3",
   "version": "3.7.4"
  }
 },
 "nbformat": 4,
 "nbformat_minor": 2
}
