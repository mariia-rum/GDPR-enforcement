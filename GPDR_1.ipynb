{
 "cells": [
  {
   "cell_type": "markdown",
   "metadata": {},
   "source": [
    "Research idea:  The issue of data analysis is to examine enforcement practices of GDPR inside the EU. \n",
    "First, for data analysis, two datasets were created in Excel (“Book1.xlsx” and “Book2.xlsx”) with information collected from GDPR Enforcement Tracker traced by CMS Legal Services EEIG. \n",
    "\n",
    "Methodology: In this Jupiter Notebook the first dataset (“Book1.xlsx”) is used. The dataset represents enforcement procedures in 27 Member States of the EU, excluding the information from the UK. It consists of 10 columns: \"Country\", \"Authority\", \"Year\", \"Fine\", \"Controller/Processor\", \"Article\", \"Type of infringement\", \"Infringement\", \"Emphasis\", \"Offender\". For analysis of data NumPy and Panda Python libraries were used. For visualization Matplotlib Python library was used. \n",
    "\n",
    "Problem: During the examination of the dataset, the main question was GDPR and its influence on the enforcement practices in the EU related to personal data protection. Data analysis in this Jupiter Notebook concerns next subquestions: \n",
    "\n",
    "1) How GDPR enforcement looks like in different countries, namely which countries enforce the biggest numbers of procedures and which are the smallest.\n",
    "\n",
    "2) The actors against which the GDPR fines were imposed. \n",
    "\n",
    "3) The most common activities that resulted in breaches of GDPR.\n",
    "\n",
    "4) Articles that were enforced because of the violations of GDPR.\n",
    "\n",
    "Steps:\n",
    "Data analysis consisted of numerous steps:\n",
    "\n",
    "1) Examination and analysis of the data set.\n",
    "\n",
    "2) Data visualization.\n",
    "\n",
    "3) Communicating results (this part was not placed in the Jupiter Notebook, but was introduced in Thesis). "
   ]
  },
  {
   "cell_type": "markdown",
   "metadata": {},
   "source": [
    "# 1. Data analysis "
   ]
  },
  {
   "cell_type": "markdown",
   "metadata": {},
   "source": [
    "1.1. The first step is to import all the libraries that will be used for the data analysis."
   ]
  },
  {
   "cell_type": "code",
   "execution_count": 39,
   "metadata": {},
   "outputs": [],
   "source": [
    "import pandas as pd\n",
    "import numpy as np\n",
    "import matplotlib.pyplot as plt"
   ]
  },
  {
   "cell_type": "markdown",
   "metadata": {},
   "source": [
    "1.2. The second step is to upload the Data Set."
   ]
  },
  {
   "cell_type": "code",
   "execution_count": 40,
   "metadata": {},
   "outputs": [],
   "source": [
    "GDPR = pd.read_excel(\"Book1.xlsx\")"
   ]
  },
  {
   "cell_type": "markdown",
   "metadata": {},
   "source": [
    "1.3. A further step is to display basic statistical details like count, mean, std, first, second and third percentile, min and max boundaries of a data frame of numeric values."
   ]
  },
  {
   "cell_type": "code",
   "execution_count": 41,
   "metadata": {
    "scrolled": false
   },
   "outputs": [
    {
     "data": {
      "text/html": [
       "<div>\n",
       "<style scoped>\n",
       "    .dataframe tbody tr th:only-of-type {\n",
       "        vertical-align: middle;\n",
       "    }\n",
       "\n",
       "    .dataframe tbody tr th {\n",
       "        vertical-align: top;\n",
       "    }\n",
       "\n",
       "    .dataframe thead th {\n",
       "        text-align: right;\n",
       "    }\n",
       "</style>\n",
       "<table border=\"1\" class=\"dataframe\">\n",
       "  <thead>\n",
       "    <tr style=\"text-align: right;\">\n",
       "      <th></th>\n",
       "      <th>Year</th>\n",
       "    </tr>\n",
       "  </thead>\n",
       "  <tbody>\n",
       "    <tr>\n",
       "      <td>count</td>\n",
       "      <td>294.000000</td>\n",
       "    </tr>\n",
       "    <tr>\n",
       "      <td>mean</td>\n",
       "      <td>2019.340136</td>\n",
       "    </tr>\n",
       "    <tr>\n",
       "      <td>std</td>\n",
       "      <td>0.566368</td>\n",
       "    </tr>\n",
       "    <tr>\n",
       "      <td>min</td>\n",
       "      <td>2018.000000</td>\n",
       "    </tr>\n",
       "    <tr>\n",
       "      <td>25%</td>\n",
       "      <td>2019.000000</td>\n",
       "    </tr>\n",
       "    <tr>\n",
       "      <td>50%</td>\n",
       "      <td>2019.000000</td>\n",
       "    </tr>\n",
       "    <tr>\n",
       "      <td>75%</td>\n",
       "      <td>2020.000000</td>\n",
       "    </tr>\n",
       "    <tr>\n",
       "      <td>max</td>\n",
       "      <td>2020.000000</td>\n",
       "    </tr>\n",
       "  </tbody>\n",
       "</table>\n",
       "</div>"
      ],
      "text/plain": [
       "              Year\n",
       "count   294.000000\n",
       "mean   2019.340136\n",
       "std       0.566368\n",
       "min    2018.000000\n",
       "25%    2019.000000\n",
       "50%    2019.000000\n",
       "75%    2020.000000\n",
       "max    2020.000000"
      ]
     },
     "execution_count": 41,
     "metadata": {},
     "output_type": "execute_result"
    }
   ],
   "source": [
    "GDPR.describe()"
   ]
  },
  {
   "cell_type": "markdown",
   "metadata": {},
   "source": [
    "1.4. To check a concise summary of the data frame  .info()function is used, which provides a general picture of the dataset that is used for research. "
   ]
  },
  {
   "cell_type": "code",
   "execution_count": 42,
   "metadata": {
    "scrolled": true
   },
   "outputs": [
    {
     "name": "stdout",
     "output_type": "stream",
     "text": [
      "<class 'pandas.core.frame.DataFrame'>\n",
      "RangeIndex: 306 entries, 0 to 305\n",
      "Data columns (total 10 columns):\n",
      "Country                  306 non-null object\n",
      "Authority                14 non-null object\n",
      "Year                     294 non-null float64\n",
      "Fine                     304 non-null object\n",
      "Controller/Processor     265 non-null object\n",
      "Article                  305 non-null object\n",
      "Type  of infringement    305 non-null object\n",
      "Infringement             275 non-null object\n",
      "Emphasis                 133 non-null object\n",
      "Offender                 306 non-null object\n",
      "dtypes: float64(1), object(9)\n",
      "memory usage: 24.0+ KB\n"
     ]
    }
   ],
   "source": [
    "GDPR.info()"
   ]
  },
  {
   "cell_type": "markdown",
   "metadata": {},
   "source": [
    "1.5. As the main emphasis of the first subquestion of the data analysis concerns columns 'Country', it is important to count the unique values of a series object in this column. The function .value_counts() function is used to obtain a Series containing counts of unique values in descending order. "
   ]
  },
  {
   "cell_type": "code",
   "execution_count": 43,
   "metadata": {
    "scrolled": false
   },
   "outputs": [
    {
     "data": {
      "text/plain": [
       "Spain               85\n",
       "Romania             34\n",
       "Hungary             28\n",
       "Germany             25\n",
       "Bulgaria            20\n",
       "Belgium             12\n",
       "Italy               10\n",
       "Czech republic      10\n",
       "Greece               8\n",
       "Norway               8\n",
       "Cyprys               8\n",
       "Slovakia             7\n",
       "Poland               7\n",
       "Austria              7\n",
       "Denmark              6\n",
       "Sweden               6\n",
       "France               5\n",
       "Finland              4\n",
       "Portugal             4\n",
       "Latvia               2\n",
       "Ireland              2\n",
       "Iceland              2\n",
       "The Netherlands      2\n",
       "Malta                1\n",
       "Estonia              1\n",
       "Croatia              1\n",
       "Lithuania            1\n",
       "Name: Country, dtype: int64"
      ]
     },
     "execution_count": 43,
     "metadata": {},
     "output_type": "execute_result"
    }
   ],
   "source": [
    "GDPR['Country'].value_counts()"
   ]
  },
  {
   "cell_type": "markdown",
   "metadata": {},
   "source": [
    "1.6. As the main emphasis of the first subquestion of the data analysis concerns columns 'Offender', it is important to count the unique values of a series object in this column. "
   ]
  },
  {
   "cell_type": "code",
   "execution_count": 44,
   "metadata": {},
   "outputs": [
    {
     "data": {
      "text/plain": [
       "COMP     141\n",
       "TEL       55\n",
       "AU        22\n",
       "BANK      16\n",
       "MED       16\n",
       "ORG       16\n",
       "PER       12\n",
       "EMP       11\n",
       "EDUC       7\n",
       "INS        5\n",
       "POL        4\n",
       "COURT      1\n",
       "Name: Offender, dtype: int64"
      ]
     },
     "execution_count": 44,
     "metadata": {},
     "output_type": "execute_result"
    }
   ],
   "source": [
    "GDPR['Offender'].value_counts()"
   ]
  },
  {
   "cell_type": "markdown",
   "metadata": {},
   "source": [
    "1.7. As the main emphasis of the first subquestion of the data analysis concerns columns 'Emphasis', it is important to count the unique values of a series object in this column. "
   ]
  },
  {
   "cell_type": "code",
   "execution_count": 45,
   "metadata": {},
   "outputs": [
    {
     "data": {
      "text/plain": [
       "Video surveillance                                                                                      35\n",
       "Error lead to extraction of personal data                                                               26\n",
       "Unlawful marketing campaigns                                                                            21\n",
       "HACKERS                                                                                                  8\n",
       "CALLS                                                                                                    6\n",
       "Photos of people were taken without consent                                                              6\n",
       "ERASE                                                                                                    5\n",
       "Data used for political issues                                                                           5\n",
       "Non-appointense of data protection officer                                                               4\n",
       "failure to ensure personal information security                                                          2\n",
       "WHISTLEBLOWER                                                                                            2\n",
       "Sending of SMS to a data subject as a reminder for a debt, even when the debt has already been paid.     1\n",
       "Location of person was tracked without consent                                                           1\n",
       "INFORMATION TO ENFORCE CXASE COLLECTED FROM BANK                                                         1\n",
       "Non-compliance with the right to be forgotten                                                            1\n",
       "SMS                                                                                                      1\n",
       "RIGHT TO BE FORGOTTEN                                                                                    1\n",
       "BIOMETRIC                                                                                                1\n",
       "DOUBLETRANS (ERROR                                                                                       1\n",
       "FACES OF PROSTITUTES                                                                                     1\n",
       "RECORD                                                                                                   1\n",
       "Personal data was unlawfully sent to the third party.                                                    1\n",
       "3rd Party                                                                                                1\n",
       "HERASSMENT                                                                                               1\n",
       "Name: Emphasis, dtype: int64"
      ]
     },
     "execution_count": 45,
     "metadata": {},
     "output_type": "execute_result"
    }
   ],
   "source": [
    "GDPR['Emphasis'].value_counts()"
   ]
  },
  {
   "cell_type": "markdown",
   "metadata": {},
   "source": [
    "1.8. As the main emphasis of the first subquestion of the data analysis concerns columns 'Article', it is important to count the unique values of a series object in this column. "
   ]
  },
  {
   "cell_type": "code",
   "execution_count": 46,
   "metadata": {},
   "outputs": [
    {
     "data": {
      "text/plain": [
       "Art. 32 GDPR                                                         38\n",
       "Art. 5 GDPR, Art. 6 GDPR                                             29\n",
       "Art. 6 GDPR                                                          28\n",
       "Art. 5 (1) f) GDPR, Art. 32 GDPR                                     14\n",
       "Art. 15 GDPR                                                          9\n",
       "                                                                     ..\n",
       "Art. 12 (4) GDPR, Art. 15 GDPR, Art. 18 (1) c) GDPR, Art. 13 GDPR     1\n",
       "Art. 17 GDPR, Art. 21 GDPR, Art. 31 GDPR                              1\n",
       "Art. 13 GDPR, Art. 14 GDPR, Art. 6 GDPR, Art. 5 GDPR                  1\n",
       "Art. 5 (1) c) GDPR, Art. 25 GDPR                                      1\n",
       "Art. 24 GDPR, Art. 32 GDPR                                            1\n",
       "Name: Article, Length: 117, dtype: int64"
      ]
     },
     "execution_count": 46,
     "metadata": {},
     "output_type": "execute_result"
    }
   ],
   "source": [
    "GDPR['Article'].value_counts()"
   ]
  },
  {
   "cell_type": "markdown",
   "metadata": {},
   "source": [
    "There are no unspecified data from the 'Country','Offender', 'Emphasis', 'Article' columns, meaning that there is no need to conduct the cleaning of data. So, the data can be visualized to answer the research sub-questions. "
   ]
  },
  {
   "cell_type": "markdown",
   "metadata": {},
   "source": [
    "# 2. Data visualization "
   ]
  },
  {
   "cell_type": "markdown",
   "metadata": {},
   "source": [
    "2.1. To represent data visually a histogram will be as it is useful for purposes of research as it provides a visual representation of the distribution of an interval variable.[1] The first histogram will represent a number of the GDPR fines in the EU countries in a date frame from May 2018 to June 2020 using data from the 'Country' column."
   ]
  },
  {
   "cell_type": "code",
   "execution_count": 47,
   "metadata": {},
   "outputs": [
    {
     "data": {
      "image/png": "[encoded data removed]",
      "text/plain": [
       "<Figure size 432x288 with 1 Axes>"
      ]
     },
     "metadata": {
      "needs_background": "light"
     },
     "output_type": "display_data"
    }
   ],
   "source": [
    "_ = GDPR['Country'].value_counts().plot(kind = 'bar', color = 'm', alpha=0.5 , grid=True)\n",
    "plt.ylabel(\"Number of fines\")\n",
    "plt.xlabel(\"Country\")\n",
    "plt.title(\"Histogram of the GDPR fines in the EU countries (May 2018-June 2020)\")\n",
    "plt.show()"
   ]
  },
  {
   "cell_type": "markdown",
   "metadata": {},
   "source": [
    "2.2. The next histogram will represent data about parties who have breached the GDPR in a time frame from May 2018 to June 2020 from the 'Offender' column."
   ]
  },
  {
   "cell_type": "code",
   "execution_count": 48,
   "metadata": {},
   "outputs": [
    {
     "data": {
      "image/png": "[encoded data removed]",
      "text/plain": [
       "<Figure size 432x288 with 1 Axes>"
      ]
     },
     "metadata": {
      "needs_background": "light"
     },
     "output_type": "display_data"
    }
   ],
   "source": [
    "_ = GDPR['Offender'].value_counts().plot(kind = 'bar', color = 'b', alpha=0.5 , grid=True, label = None)\n",
    "plt.ylabel(\"Numbers of fines\")\n",
    "plt.title (\"Histogram representing parties who have breached the GDPR (May 2018-June 2020)\", fontsize =10)\n",
    "plt.xticks(rotation= 45)\n",
    "plt.legend(loc='upper right')\n",
    "plt.show()"
   ]
  },
  {
   "cell_type": "markdown",
   "metadata": {},
   "source": [
    "# Bibliography "
   ]
  },
  {
   "cell_type": "markdown",
   "metadata": {},
   "source": [
    "1. An Introduction to Empirical Legal Research, Lee Epstein, Washington University in St. Louis, Andrew D. Martin, University of Michigan, Oxford University Press,2014. - p.268 "
   ]
  }
 ],
 "metadata": {
  "kernelspec": {
   "display_name": "Python 3",
   "language": "python",
   "name": "python3"
  },
  "language_info": {
   "codemirror_mode": {
    "name": "ipython",
    "version": 3
   },
   "file_extension": ".py",
   "mimetype": "text/x-python",
   "name": "python",
   "nbconvert_exporter": "python",
   "pygments_lexer": "ipython3",
   "version": "3.7.4"
  }
 },
 "nbformat": 4,
 "nbformat_minor": 2
}
